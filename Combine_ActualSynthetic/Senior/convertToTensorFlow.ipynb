{
 "cells": [
  {
   "cell_type": "code",
   "execution_count": 2,
   "metadata": {},
   "outputs": [
    {
     "name": "stdout",
     "output_type": "stream",
     "text": [
      "KNeighborsRegressor(n_neighbors=10, weights='distance')\n"
     ]
    }
   ],
   "source": [
    "from joblib import load\n",
    "\n",
    "# Load your model\n",
    "model = load(r'D:\\Prab\\IPS-Project\\IPS_Enhance_synthetic_database\\Actual_Synthetic\\Senior\\NEW_senior_saved_model\\actual_ml_0.9_KNeighborsRegressor_coord.joblib')\n",
    "\n",
    "# Inspect the model\n",
    "print(model)"
   ]
  }
 ],
 "metadata": {
  "kernelspec": {
   "display_name": "Python 3",
   "language": "python",
   "name": "python3"
  },
  "language_info": {
   "codemirror_mode": {
    "name": "ipython",
    "version": 3
   },
   "file_extension": ".py",
   "mimetype": "text/x-python",
   "name": "python",
   "nbconvert_exporter": "python",
   "pygments_lexer": "ipython3",
   "version": "3.11.4"
  }
 },
 "nbformat": 4,
 "nbformat_minor": 2
}
