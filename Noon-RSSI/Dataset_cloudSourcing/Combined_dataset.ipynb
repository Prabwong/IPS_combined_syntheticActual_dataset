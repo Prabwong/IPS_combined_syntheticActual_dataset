{
 "cells": [
  {
   "cell_type": "code",
   "execution_count": 5,
   "metadata": {},
   "outputs": [
    {
     "name": "stdout",
     "output_type": "stream",
     "text": [
      "[103, 111, 114, 115, 116]\n",
      "122\n",
      "(1747, 103)\n",
      "(1961, 111)\n",
      "(2170, 114)\n",
      "(2070, 115)\n",
      "(2221, 116)\n",
      "10169\n",
      "['Date & Time', 'Latitude', 'Longitude', 'Floor', 'CMKL-Guest_2a:3f:0b:56:e6:18', 'CMKL-Guest_2a:3f:0b:56:e8:f1', 'CMKL-Guest_2a:3f:0b:56:e8:f7', 'CMKL-Guest_2a:3f:0b:56:e9:00', 'CMKL-Guest_2a:3f:0b:56:e9:03', 'CMKL-Guest_2a:3f:0b:56:e9:15', 'CMKL-Guest_2a:3f:0b:56:e9:2a', 'CMKL-Guest_2a:3f:0b:57:fa:37', 'CMKL-Guest_2a:3f:1b:56:e6:18', 'CMKL-Guest_2a:3f:1b:56:e8:f1', 'CMKL-Guest_2a:3f:1b:56:e8:f7', 'CMKL-Guest_2a:3f:1b:56:e8:fb', 'CMKL-Guest_2a:3f:1b:56:e9:00', 'CMKL-Guest_2a:3f:1b:56:e9:03', 'CMKL-Guest_2a:3f:1b:56:e9:15', 'CMKL-Guest_2a:3f:1b:56:e9:2a', 'CMKL-Guest_2a:3f:1b:57:fa:37', 'CMKL-Guest_e2:55:a8:26:73:ee', 'CMKL-Guest_e2:55:a8:26:73:ef', 'CMKL-Guest_e2:55:b8:26:73:ef', 'CMKL-TV_26:3f:0b:56:e6:18', 'CMKL-TV_26:3f:0b:56:e8:f1', 'CMKL-TV_26:3f:0b:56:e8:f7', 'CMKL-TV_26:3f:0b:56:e9:00', 'CMKL-TV_26:3f:0b:56:e9:03', 'CMKL-TV_26:3f:0b:56:e9:15', 'CMKL-TV_26:3f:0b:56:e9:2a', 'CMKL-TV_26:3f:0b:57:fa:37', 'CMKL-TV_26:3f:1b:56:e6:18', 'CMKL-TV_26:3f:1b:56:e8:f1', 'CMKL-TV_26:3f:1b:56:e8:f7', 'CMKL-TV_26:3f:1b:56:e8:fb', 'CMKL-TV_26:3f:1b:56:e9:00', 'CMKL-TV_26:3f:1b:56:e9:03', 'CMKL-TV_26:3f:1b:56:e9:15', 'CMKL-TV_26:3f:1b:56:e9:2a', 'CMKL-TV_26:3f:1b:57:fa:37', 'CMKL-TV_ee:55:a8:26:73:ee', 'CMKL-TV_ee:55:a8:26:73:ef', 'CMKL-TV_ee:55:b8:26:73:ef', 'CMKL_2c:3f:0b:56:e6:18', 'CMKL_2c:3f:0b:56:e8:f1', 'CMKL_2c:3f:0b:56:e8:f7', 'CMKL_2c:3f:0b:56:e9:00', 'CMKL_2c:3f:0b:56:e9:03', 'CMKL_2c:3f:0b:56:e9:15', 'CMKL_2c:3f:0b:56:e9:2a', 'CMKL_2c:3f:0b:57:fa:37', 'CMKL_2e:3f:1b:56:e6:18', 'CMKL_2e:3f:1b:56:e8:f1', 'CMKL_2e:3f:1b:56:e8:f7', 'CMKL_2e:3f:1b:56:e8:fb', 'CMKL_2e:3f:1b:56:e9:00', 'CMKL_2e:3f:1b:56:e9:03', 'CMKL_2e:3f:1b:56:e9:15', 'CMKL_2e:3f:1b:56:e9:2a', 'CMKL_2e:3f:1b:57:fa:37', 'CMKL_e4:55:a8:26:73:ee', 'CMKL_e4:55:a8:26:73:ef', 'CMKL_e6:55:b8:26:73:ef', 'K-FIGHT_9c:50:ee:83:b2:90', 'K-FIGHT_9c:50:ee:83:b4:70', 'K-FIGHT_9c:50:ee:83:b8:30', 'K-NEXT_9c:50:ee:83:b2:83', 'K-NEXT_9c:50:ee:83:b2:93', 'K-NEXT_9c:50:ee:83:b4:43', 'K-NEXT_9c:50:ee:83:b4:63', 'K-NEXT_9c:50:ee:83:b4:73', 'K-NEXT_9c:50:ee:83:b8:33', 'KMITL-IoT_9c:50:ee:83:b2:84', 'KMITL-IoT_9c:50:ee:83:b4:44', 'KMITL-IoT_9c:50:ee:83:b4:64', 'KMITL-IoT_9c:50:ee:83:b8:24', 'KMITL-WIFI_9c:50:ee:83:b2:91', 'KMITL-WIFI_9c:50:ee:83:b4:41', 'KMITL-WIFI_9c:50:ee:83:b4:61', 'KMITL-WIFI_9c:50:ee:83:b4:71', 'KMITL-WIFI_9c:50:ee:83:b8:21', 'KMITL-WIFI_9c:50:ee:83:b8:31', '_12:3f:0b:56:e6:18', '_12:3f:0b:56:e8:f7', '_12:3f:0b:56:e9:00', '_12:3f:0b:56:e9:03', '_12:3f:0b:56:e9:15', '_12:3f:0b:56:e9:2a', '_12:3f:0b:57:fa:37', '_12:3f:1b:56:e6:18', '_12:3f:1b:56:e8:f1', '_12:3f:1b:56:e8:f7', '_12:3f:1b:56:e9:00', '_12:3f:1b:56:e9:03', '_12:3f:1b:56:e9:15', '_12:3f:1b:57:fa:37', '_da:55:a8:26:73:ee', '_da:55:a8:26:73:ef', 'eduroam_34:1e:6b:05:fa:f2', 'eduroam_9c:50:ee:83:b2:92', 'eduroam_9c:50:ee:83:b4:72', 'eduroam_9c:50:ee:83:b8:32', 'Date & Time', 'Latitude', 'Longitude', 'Floor', 'CMKL-Guest_2a:3f:0b:56:e6:18', 'CMKL-Guest_2a:3f:0b:56:e8:f1', 'CMKL-Guest_2a:3f:0b:56:e8:f7', 'CMKL-Guest_2a:3f:0b:56:e9:00', 'CMKL-Guest_2a:3f:0b:56:e9:03', 'CMKL-Guest_2a:3f:0b:56:e9:15', 'CMKL-Guest_2a:3f:0b:56:e9:2a', 'CMKL-Guest_2a:3f:0b:57:fa:37', 'CMKL-Guest_2a:3f:1b:56:e6:18', 'CMKL-Guest_2a:3f:1b:56:e8:f1', 'CMKL-Guest_2a:3f:1b:56:e8:f7', 'CMKL-Guest_2a:3f:1b:56:e8:fb', 'CMKL-Guest_2a:3f:1b:56:e9:00', 'CMKL-Guest_2a:3f:1b:56:e9:03', 'CMKL-Guest_2a:3f:1b:56:e9:15', 'CMKL-Guest_2a:3f:1b:56:e9:2a', 'CMKL-Guest_2a:3f:1b:57:fa:37', 'CMKL-Guest_e2:55:b8:26:73:ef', 'CMKL-TV_26:3f:0b:56:e6:18', 'CMKL-TV_26:3f:0b:56:e8:f1', 'CMKL-TV_26:3f:0b:56:e8:f7', 'CMKL-TV_26:3f:0b:56:e9:00', 'CMKL-TV_26:3f:0b:56:e9:03', 'CMKL-TV_26:3f:0b:56:e9:15', 'CMKL-TV_26:3f:0b:56:e9:2a', 'CMKL-TV_26:3f:0b:57:fa:37', 'CMKL-TV_26:3f:1b:56:e6:18', 'CMKL-TV_26:3f:1b:56:e8:f1', 'CMKL-TV_26:3f:1b:56:e8:f7', 'CMKL-TV_26:3f:1b:56:e8:fb', 'CMKL-TV_26:3f:1b:56:e9:00', 'CMKL-TV_26:3f:1b:56:e9:03', 'CMKL-TV_26:3f:1b:56:e9:15', 'CMKL-TV_26:3f:1b:56:e9:2a', 'CMKL-TV_26:3f:1b:57:fa:37', 'CMKL-TV_ee:55:a8:26:73:ef', 'CMKL-TV_ee:55:b8:26:73:ef', 'CMKL_2c:3f:0b:56:e6:18', 'CMKL_2c:3f:0b:56:e8:f1', 'CMKL_2c:3f:0b:56:e8:f7', 'CMKL_2c:3f:0b:56:e9:00', 'CMKL_2c:3f:0b:56:e9:03', 'CMKL_2c:3f:0b:56:e9:15', 'CMKL_2c:3f:0b:56:e9:2a', 'CMKL_2c:3f:0b:57:fa:37', 'CMKL_2e:3f:1b:56:e6:18', 'CMKL_2e:3f:1b:56:e8:f1', 'CMKL_2e:3f:1b:56:e8:f7', 'CMKL_2e:3f:1b:56:e8:fb', 'CMKL_2e:3f:1b:56:e9:00', 'CMKL_2e:3f:1b:56:e9:03', 'CMKL_2e:3f:1b:56:e9:15', 'CMKL_2e:3f:1b:56:e9:2a', 'CMKL_2e:3f:1b:57:fa:37', 'CMKL_e4:55:a8:26:73:ef', 'CMKL_e6:55:b8:26:73:ef', 'Galaxy A107B7C_2a:c6:e4:be:62:23', 'K-FIGHT_9c:50:ee:83:b2:90', 'K-FIGHT_9c:50:ee:83:b4:50', 'K-FIGHT_9c:50:ee:83:b4:70', 'K-FIGHT_9c:50:ee:83:b8:30', 'K-NEXT_9c:50:ee:83:b2:83', 'K-NEXT_9c:50:ee:83:b2:93', 'K-NEXT_9c:50:ee:83:b4:43', 'K-NEXT_9c:50:ee:83:b4:53', 'K-NEXT_9c:50:ee:83:b4:63', 'K-NEXT_9c:50:ee:83:b4:73', 'K-NEXT_9c:50:ee:83:b5:03', 'K-NEXT_9c:50:ee:83:b8:23', 'K-NEXT_9c:50:ee:83:b8:33', 'KMITL-IoT_9c:50:ee:83:b2:84', 'KMITL-IoT_9c:50:ee:83:b4:44', 'KMITL-IoT_9c:50:ee:83:b4:64', 'KMITL-IoT_9c:50:ee:83:b8:24', 'KMITL-WIFI_9c:50:ee:83:b2:81', 'KMITL-WIFI_9c:50:ee:83:b2:91', 'KMITL-WIFI_9c:50:ee:83:b4:41', 'KMITL-WIFI_9c:50:ee:83:b4:51', 'KMITL-WIFI_9c:50:ee:83:b4:61', 'KMITL-WIFI_9c:50:ee:83:b4:71', 'KMITL-WIFI_9c:50:ee:83:b5:01', 'KMITL-WIFI_9c:50:ee:83:b8:21', 'KMITL-WIFI_9c:50:ee:83:b8:31', 'SERI_5G_16:11:5d:17:b6:e2', '_12:3f:0b:56:e6:18', '_12:3f:0b:56:e8:f1', '_12:3f:0b:56:e8:f7', '_12:3f:0b:56:e9:00', '_12:3f:0b:56:e9:03', '_12:3f:0b:56:e9:15', '_12:3f:0b:56:e9:2a', '_12:3f:0b:57:fa:37', '_12:3f:1b:56:e6:18', '_12:3f:1b:56:e8:f1', '_12:3f:1b:56:e8:f7', '_12:3f:1b:56:e8:fb', '_12:3f:1b:56:e9:00', '_12:3f:1b:56:e9:03', '_12:3f:1b:56:e9:0d', '_12:3f:1b:56:e9:15', '_12:3f:1b:56:e9:2a', '_12:3f:1b:57:fa:37', '_da:55:b8:26:73:ef', 'eduroam_9c:50:ee:83:b2:92', 'eduroam_9c:50:ee:83:b4:52', 'eduroam_9c:50:ee:83:b4:72', 'eduroam_9c:50:ee:83:b8:32', 'Date & Time', 'Latitude', 'Longitude', 'Floor', 'CMKL-Guest_2a:3f:0b:56:e6:18', 'CMKL-Guest_2a:3f:0b:56:e8:f1', 'CMKL-Guest_2a:3f:0b:56:e8:f7', 'CMKL-Guest_2a:3f:0b:56:e9:00', 'CMKL-Guest_2a:3f:0b:56:e9:03', 'CMKL-Guest_2a:3f:0b:56:e9:15', 'CMKL-Guest_2a:3f:0b:56:e9:2a', 'CMKL-Guest_2a:3f:0b:57:fa:37', 'CMKL-Guest_2a:3f:1b:56:e6:18', 'CMKL-Guest_2a:3f:1b:56:e8:f1', 'CMKL-Guest_2a:3f:1b:56:e8:f7', 'CMKL-Guest_2a:3f:1b:56:e8:fb', 'CMKL-Guest_2a:3f:1b:56:e9:00', 'CMKL-Guest_2a:3f:1b:56:e9:03', 'CMKL-Guest_2a:3f:1b:56:e9:0d', 'CMKL-Guest_2a:3f:1b:56:e9:15', 'CMKL-Guest_2a:3f:1b:56:e9:2a', 'CMKL-Guest_2a:3f:1b:57:fa:37', 'CMKL-Guest_e2:55:b8:26:73:ef', 'CMKL-TV_26:3f:0b:56:e6:18', 'CMKL-TV_26:3f:0b:56:e8:f1', 'CMKL-TV_26:3f:0b:56:e8:f7', 'CMKL-TV_26:3f:0b:56:e9:00', 'CMKL-TV_26:3f:0b:56:e9:03', 'CMKL-TV_26:3f:0b:56:e9:15', 'CMKL-TV_26:3f:0b:56:e9:2a', 'CMKL-TV_26:3f:0b:57:fa:37', 'CMKL-TV_26:3f:1b:56:e6:18', 'CMKL-TV_26:3f:1b:56:e8:f1', 'CMKL-TV_26:3f:1b:56:e8:f7', 'CMKL-TV_26:3f:1b:56:e8:fb', 'CMKL-TV_26:3f:1b:56:e9:00', 'CMKL-TV_26:3f:1b:56:e9:03', 'CMKL-TV_26:3f:1b:56:e9:0d', 'CMKL-TV_26:3f:1b:56:e9:15', 'CMKL-TV_26:3f:1b:56:e9:2a', 'CMKL-TV_26:3f:1b:57:fa:37', 'CMKL-TV_ee:55:a8:26:73:ef', 'CMKL-TV_ee:55:b8:26:73:ef', 'CMKL_2c:3f:0b:56:e6:18', 'CMKL_2c:3f:0b:56:e8:f1', 'CMKL_2c:3f:0b:56:e8:f7', 'CMKL_2c:3f:0b:56:e9:00', 'CMKL_2c:3f:0b:56:e9:03', 'CMKL_2c:3f:0b:56:e9:15', 'CMKL_2c:3f:0b:56:e9:2a', 'CMKL_2c:3f:0b:57:fa:37', 'CMKL_2e:3f:1b:56:e6:18', 'CMKL_2e:3f:1b:56:e8:f1', 'CMKL_2e:3f:1b:56:e8:f7', 'CMKL_2e:3f:1b:56:e8:fb', 'CMKL_2e:3f:1b:56:e9:00', 'CMKL_2e:3f:1b:56:e9:03', 'CMKL_2e:3f:1b:56:e9:0d', 'CMKL_2e:3f:1b:56:e9:15', 'CMKL_2e:3f:1b:56:e9:2a', 'CMKL_2e:3f:1b:57:fa:37', 'CMKL_e4:55:a8:26:73:ef', 'CMKL_e6:55:b8:26:73:ef', 'Galaxy A107B7C_2a:c6:e4:be:62:23', 'K-FIGHT_9c:50:ee:83:b2:90', 'K-FIGHT_9c:50:ee:83:b4:50', 'K-FIGHT_9c:50:ee:83:b4:70', 'K-FIGHT_9c:50:ee:83:b8:30', 'K-NEXT_9c:50:ee:83:b2:83', 'K-NEXT_9c:50:ee:83:b2:93', 'K-NEXT_9c:50:ee:83:b4:43', 'K-NEXT_9c:50:ee:83:b4:53', 'K-NEXT_9c:50:ee:83:b4:63', 'K-NEXT_9c:50:ee:83:b4:73', 'K-NEXT_9c:50:ee:83:b5:03', 'K-NEXT_9c:50:ee:83:b8:23', 'K-NEXT_9c:50:ee:83:b8:33', 'KMITL-IoT_9c:50:ee:83:b2:84', 'KMITL-IoT_9c:50:ee:83:b4:44', 'KMITL-IoT_9c:50:ee:83:b4:64', 'KMITL-IoT_9c:50:ee:83:b8:24', 'KMITL-WIFI_9c:50:ee:83:b2:81', 'KMITL-WIFI_9c:50:ee:83:b2:91', 'KMITL-WIFI_9c:50:ee:83:b4:41', 'KMITL-WIFI_9c:50:ee:83:b4:51', 'KMITL-WIFI_9c:50:ee:83:b4:61', 'KMITL-WIFI_9c:50:ee:83:b4:71', 'KMITL-WIFI_9c:50:ee:83:b5:01', 'KMITL-WIFI_9c:50:ee:83:b8:21', 'KMITL-WIFI_9c:50:ee:83:b8:31', 'SERI_5G_16:11:5d:17:b6:e2', '_12:3f:0b:56:e6:18', '_12:3f:0b:56:e8:f1', '_12:3f:0b:56:e8:f7', '_12:3f:0b:56:e9:00', '_12:3f:0b:56:e9:03', '_12:3f:0b:56:e9:15', '_12:3f:0b:56:e9:2a', '_12:3f:0b:57:fa:37', '_12:3f:1b:56:e6:18', '_12:3f:1b:56:e8:f1', '_12:3f:1b:56:e8:f7', '_12:3f:1b:56:e8:fb', '_12:3f:1b:56:e9:00', '_12:3f:1b:56:e9:03', '_12:3f:1b:56:e9:0d', '_12:3f:1b:56:e9:15', '_12:3f:1b:56:e9:2a', '_12:3f:1b:57:fa:37', '_da:55:b8:26:73:ef', 'eduroam_9c:50:ee:83:b2:92', 'eduroam_9c:50:ee:83:b4:52', 'eduroam_9c:50:ee:83:b4:72', 'eduroam_9c:50:ee:83:b8:32', 'Date & Time', 'Latitude', 'Longitude', 'Floor', 'CMKL-Guest_2a:3f:0b:56:e6:18', 'CMKL-Guest_2a:3f:0b:56:e8:f1', 'CMKL-Guest_2a:3f:0b:56:e8:f7', 'CMKL-Guest_2a:3f:0b:56:e9:00', 'CMKL-Guest_2a:3f:0b:56:e9:03', 'CMKL-Guest_2a:3f:0b:56:e9:15', 'CMKL-Guest_2a:3f:0b:56:e9:2a', 'CMKL-Guest_2a:3f:0b:57:fa:37', 'CMKL-Guest_2a:3f:1b:56:e6:18', 'CMKL-Guest_2a:3f:1b:56:e8:f1', 'CMKL-Guest_2a:3f:1b:56:e8:f7', 'CMKL-Guest_2a:3f:1b:56:e8:fb', 'CMKL-Guest_2a:3f:1b:56:e9:00', 'CMKL-Guest_2a:3f:1b:56:e9:03', 'CMKL-Guest_2a:3f:1b:56:e9:0d', 'CMKL-Guest_2a:3f:1b:56:e9:15', 'CMKL-Guest_2a:3f:1b:56:e9:2a', 'CMKL-Guest_2a:3f:1b:57:fa:37', 'CMKL-Guest_e2:55:a8:26:73:ef', 'CMKL-Guest_e2:55:b8:26:73:ef', 'CMKL-TV_26:3f:0b:56:e6:18', 'CMKL-TV_26:3f:0b:56:e8:f1', 'CMKL-TV_26:3f:0b:56:e8:f7', 'CMKL-TV_26:3f:0b:56:e9:00', 'CMKL-TV_26:3f:0b:56:e9:03', 'CMKL-TV_26:3f:0b:56:e9:15', 'CMKL-TV_26:3f:0b:56:e9:2a', 'CMKL-TV_26:3f:0b:57:fa:37', 'CMKL-TV_26:3f:1b:56:e6:18', 'CMKL-TV_26:3f:1b:56:e8:f1', 'CMKL-TV_26:3f:1b:56:e8:f7', 'CMKL-TV_26:3f:1b:56:e8:fb', 'CMKL-TV_26:3f:1b:56:e9:00', 'CMKL-TV_26:3f:1b:56:e9:03', 'CMKL-TV_26:3f:1b:56:e9:0d', 'CMKL-TV_26:3f:1b:56:e9:15', 'CMKL-TV_26:3f:1b:56:e9:2a', 'CMKL-TV_26:3f:1b:57:fa:37', 'CMKL-TV_ee:55:a8:26:73:ef', 'CMKL-TV_ee:55:b8:26:73:ef', 'CMKL_2c:3f:0b:56:e6:18', 'CMKL_2c:3f:0b:56:e8:f1', 'CMKL_2c:3f:0b:56:e8:f7', 'CMKL_2c:3f:0b:56:e9:00', 'CMKL_2c:3f:0b:56:e9:03', 'CMKL_2c:3f:0b:56:e9:15', 'CMKL_2c:3f:0b:56:e9:2a', 'CMKL_2c:3f:0b:57:fa:37', 'CMKL_2e:3f:1b:56:e6:18', 'CMKL_2e:3f:1b:56:e8:f1', 'CMKL_2e:3f:1b:56:e8:f7', 'CMKL_2e:3f:1b:56:e8:fb', 'CMKL_2e:3f:1b:56:e9:00', 'CMKL_2e:3f:1b:56:e9:03', 'CMKL_2e:3f:1b:56:e9:0d', 'CMKL_2e:3f:1b:56:e9:15', 'CMKL_2e:3f:1b:56:e9:2a', 'CMKL_2e:3f:1b:57:fa:37', 'CMKL_e4:55:a8:26:73:ef', 'CMKL_e6:55:b8:26:73:ef', 'Galaxy A107B7C_2a:c6:e4:be:62:23', 'K-FIGHT_9c:50:ee:83:b2:90', 'K-FIGHT_9c:50:ee:83:b4:50', 'K-FIGHT_9c:50:ee:83:b4:70', 'K-FIGHT_9c:50:ee:83:b8:30', 'K-NEXT_9c:50:ee:83:b2:83', 'K-NEXT_9c:50:ee:83:b2:93', 'K-NEXT_9c:50:ee:83:b4:43', 'K-NEXT_9c:50:ee:83:b4:53', 'K-NEXT_9c:50:ee:83:b4:63', 'K-NEXT_9c:50:ee:83:b4:73', 'K-NEXT_9c:50:ee:83:b5:03', 'K-NEXT_9c:50:ee:83:b8:23', 'K-NEXT_9c:50:ee:83:b8:33', 'KMITL-IoT_9c:50:ee:83:b2:84', 'KMITL-IoT_9c:50:ee:83:b4:44', 'KMITL-IoT_9c:50:ee:83:b4:64', 'KMITL-IoT_9c:50:ee:83:b8:24', 'KMITL-WIFI_9c:50:ee:83:b2:81', 'KMITL-WIFI_9c:50:ee:83:b2:91', 'KMITL-WIFI_9c:50:ee:83:b4:41', 'KMITL-WIFI_9c:50:ee:83:b4:51', 'KMITL-WIFI_9c:50:ee:83:b4:61', 'KMITL-WIFI_9c:50:ee:83:b4:71', 'KMITL-WIFI_9c:50:ee:83:b5:01', 'KMITL-WIFI_9c:50:ee:83:b8:21', 'KMITL-WIFI_9c:50:ee:83:b8:31', 'SERI_5G_16:11:5d:17:b6:e2', '_12:3f:0b:56:e6:18', '_12:3f:0b:56:e8:f1', '_12:3f:0b:56:e8:f7', '_12:3f:0b:56:e9:00', '_12:3f:0b:56:e9:03', '_12:3f:0b:56:e9:15', '_12:3f:0b:56:e9:2a', '_12:3f:0b:57:fa:37', '_12:3f:1b:56:e6:18', '_12:3f:1b:56:e8:f1', '_12:3f:1b:56:e8:f7', '_12:3f:1b:56:e8:fb', '_12:3f:1b:56:e9:00', '_12:3f:1b:56:e9:03', '_12:3f:1b:56:e9:0d', '_12:3f:1b:56:e9:15', '_12:3f:1b:56:e9:2a', '_12:3f:1b:57:fa:37', '_da:55:b8:26:73:ef', 'eduroam_9c:50:ee:83:b2:92', 'eduroam_9c:50:ee:83:b4:52', 'eduroam_9c:50:ee:83:b4:72', 'eduroam_9c:50:ee:83:b8:32', 'Date & Time', 'Latitude', 'Longitude', 'Floor', 'CMKL-Guest_2a:3f:0b:56:e6:18', 'CMKL-Guest_2a:3f:0b:56:e8:f1', 'CMKL-Guest_2a:3f:0b:56:e8:f7', 'CMKL-Guest_2a:3f:0b:56:e9:00', 'CMKL-Guest_2a:3f:0b:56:e9:03', 'CMKL-Guest_2a:3f:0b:56:e9:15', 'CMKL-Guest_2a:3f:0b:56:e9:2a', 'CMKL-Guest_2a:3f:0b:57:fa:37', 'CMKL-Guest_2a:3f:1b:56:e6:18', 'CMKL-Guest_2a:3f:1b:56:e8:f1', 'CMKL-Guest_2a:3f:1b:56:e8:f7', 'CMKL-Guest_2a:3f:1b:56:e8:fb', 'CMKL-Guest_2a:3f:1b:56:e9:00', 'CMKL-Guest_2a:3f:1b:56:e9:03', 'CMKL-Guest_2a:3f:1b:56:e9:0d', 'CMKL-Guest_2a:3f:1b:56:e9:15', 'CMKL-Guest_2a:3f:1b:56:e9:2a', 'CMKL-Guest_2a:3f:1b:57:fa:37', 'CMKL-Guest_e2:55:a8:26:73:ef', 'CMKL-Guest_e2:55:b8:26:73:ef', 'CMKL-TV_26:3f:0b:56:e6:18', 'CMKL-TV_26:3f:0b:56:e8:f1', 'CMKL-TV_26:3f:0b:56:e8:f7', 'CMKL-TV_26:3f:0b:56:e9:00', 'CMKL-TV_26:3f:0b:56:e9:03', 'CMKL-TV_26:3f:0b:56:e9:15', 'CMKL-TV_26:3f:0b:56:e9:2a', 'CMKL-TV_26:3f:0b:57:fa:37', 'CMKL-TV_26:3f:1b:56:e6:18', 'CMKL-TV_26:3f:1b:56:e8:f1', 'CMKL-TV_26:3f:1b:56:e8:f7', 'CMKL-TV_26:3f:1b:56:e8:fb', 'CMKL-TV_26:3f:1b:56:e9:00', 'CMKL-TV_26:3f:1b:56:e9:03', 'CMKL-TV_26:3f:1b:56:e9:0d', 'CMKL-TV_26:3f:1b:56:e9:15', 'CMKL-TV_26:3f:1b:56:e9:2a', 'CMKL-TV_26:3f:1b:57:fa:37', 'CMKL-TV_ee:55:a8:26:73:ef', 'CMKL-TV_ee:55:b8:26:73:ef', 'CMKL_2c:3f:0b:56:e6:18', 'CMKL_2c:3f:0b:56:e8:f1', 'CMKL_2c:3f:0b:56:e8:f7', 'CMKL_2c:3f:0b:56:e9:00', 'CMKL_2c:3f:0b:56:e9:03', 'CMKL_2c:3f:0b:56:e9:15', 'CMKL_2c:3f:0b:56:e9:2a', 'CMKL_2c:3f:0b:57:fa:37', 'CMKL_2e:3f:1b:56:e6:18', 'CMKL_2e:3f:1b:56:e8:f1', 'CMKL_2e:3f:1b:56:e8:f7', 'CMKL_2e:3f:1b:56:e8:fb', 'CMKL_2e:3f:1b:56:e9:00', 'CMKL_2e:3f:1b:56:e9:03', 'CMKL_2e:3f:1b:56:e9:0d', 'CMKL_2e:3f:1b:56:e9:15', 'CMKL_2e:3f:1b:56:e9:2a', 'CMKL_2e:3f:1b:57:fa:37', 'CMKL_e4:55:a8:26:73:ef', 'CMKL_e6:55:b8:26:73:ef', 'Galaxy A107B7C_2a:c6:e4:be:62:23', 'K-FIGHT_9c:50:ee:83:b2:90', 'K-FIGHT_9c:50:ee:83:b4:50', 'K-FIGHT_9c:50:ee:83:b4:70', 'K-FIGHT_9c:50:ee:83:b8:30', 'K-NEXT_9c:50:ee:83:b2:83', 'K-NEXT_9c:50:ee:83:b2:93', 'K-NEXT_9c:50:ee:83:b4:43', 'K-NEXT_9c:50:ee:83:b4:53', 'K-NEXT_9c:50:ee:83:b4:63', 'K-NEXT_9c:50:ee:83:b4:73', 'K-NEXT_9c:50:ee:83:b5:03', 'K-NEXT_9c:50:ee:83:b8:23', 'K-NEXT_9c:50:ee:83:b8:33', 'KMITL-IoT_9c:50:ee:83:b2:84', 'KMITL-IoT_9c:50:ee:83:b4:44', 'KMITL-IoT_9c:50:ee:83:b4:64', 'KMITL-IoT_9c:50:ee:83:b8:24', 'KMITL-WIFI_9c:50:ee:83:b2:81', 'KMITL-WIFI_9c:50:ee:83:b2:91', 'KMITL-WIFI_9c:50:ee:83:b4:41', 'KMITL-WIFI_9c:50:ee:83:b4:51', 'KMITL-WIFI_9c:50:ee:83:b4:61', 'KMITL-WIFI_9c:50:ee:83:b4:71', 'KMITL-WIFI_9c:50:ee:83:b5:01', 'KMITL-WIFI_9c:50:ee:83:b8:21', 'KMITL-WIFI_9c:50:ee:83:b8:31', 'SERI_5G_16:11:5d:17:b6:e2', '_12:3f:0b:56:e6:18', '_12:3f:0b:56:e8:f1', '_12:3f:0b:56:e8:f7', '_12:3f:0b:56:e9:00', '_12:3f:0b:56:e9:03', '_12:3f:0b:56:e9:15', '_12:3f:0b:56:e9:2a', '_12:3f:0b:57:fa:37', '_12:3f:1b:56:e6:18', '_12:3f:1b:56:e8:f1', '_12:3f:1b:56:e8:f7', '_12:3f:1b:56:e8:fb', '_12:3f:1b:56:e9:00', '_12:3f:1b:56:e9:03', '_12:3f:1b:56:e9:0d', '_12:3f:1b:56:e9:15', '_12:3f:1b:56:e9:2a', '_12:3f:1b:57:fa:37', '_da:55:b8:26:73:ef', 'eduroam_9c:50:ee:83:b2:92', 'eduroam_9c:50:ee:83:b4:52', 'eduroam_9c:50:ee:83:b4:72', 'eduroam_9c:50:ee:83:b8:32', 'guest_b6:fb:e4:a4:60:11']\n"
     ]
    }
   ],
   "source": [
    "import pandas as pd\n",
    "\n",
    "# Load the CSV files\n",
    "file_paths = [\n",
    "    r\"D:\\Prab\\IPS-Project\\synthetic_data_point\\Noon-RSSI\\Dataset_cloudSourcing\\Round1_combined_data.csv\",\n",
    "    r\"D:\\Prab\\IPS-Project\\synthetic_data_point\\Noon-RSSI\\Dataset_cloudSourcing\\Round2_combined_data.csv\",\n",
    "    r\"D:\\Prab\\IPS-Project\\synthetic_data_point\\Noon-RSSI\\Dataset_cloudSourcing\\Round3_combined_data.csv\",\n",
    "    r\"D:\\Prab\\IPS-Project\\synthetic_data_point\\Noon-RSSI\\Dataset_cloudSourcing\\Round4_combined_data.csv\",\n",
    "    r\"D:\\Prab\\IPS-Project\\synthetic_data_point\\Noon-RSSI\\Dataset_cloudSourcing\\Round5_combined_data.csv\"\n",
    "]\n",
    "\n",
    "# Read each file into a dataframe and store in a list\n",
    "dataframes = [pd.read_csv(file) for file in file_paths]\n",
    "dataframes_cleaned = [df.rename(columns=lambda x: x.strip()) for df in dataframes]\n",
    "\n",
    "# Display the first few rows of each dataframe to understand their structure\n",
    "print([len(dataframes[i].columns) for i in range(len(dataframes))])\n",
    "\n",
    "unique_columns = []\n",
    "\n",
    "for i in range(len(dataframes)):\n",
    "    for j in dataframes[i].columns:\n",
    "        unique_columns.append(j)\n",
    "        \n",
    "print(len(set(unique_columns)))\n",
    "\n",
    "sum = 0\n",
    "for i in range(len(dataframes)):\n",
    "    print(dataframes[i].shape)\n",
    "    sum += dataframes[i].shape[0]\n",
    "    \n",
    "print(sum)\n",
    "# dataframes_cleaned\n",
    "print(unique_columns)"
   ]
  },
  {
   "cell_type": "code",
   "execution_count": 6,
   "metadata": {},
   "outputs": [
    {
     "name": "stdout",
     "output_type": "stream",
     "text": [
      "(10169, 122)\n",
      "           Date & Time   Latitude   Longitude Floor\n",
      "0  2024-06-05 15:23:58  13.727892  100.778333     6\n",
      "1  2024-06-05 15:24:02  13.727892  100.778333     6\n",
      "2  2024-06-05 15:24:08  13.727904  100.778324     6\n",
      "3  2024-06-05 15:24:12  13.727908  100.778325     6\n",
      "4  2024-06-05 15:24:18  13.727906  100.778330     6\n",
      "------------------------------------------------\n",
      "Index(['Date & Time', 'Latitude', 'Longitude', 'Floor',\n",
      "       'CMKL-Guest_2a:3f:0b:56:e6:18', 'CMKL-Guest_2a:3f:0b:56:e8:f1',\n",
      "       'CMKL-Guest_2a:3f:0b:56:e8:f7', 'CMKL-Guest_2a:3f:0b:56:e9:00',\n",
      "       'CMKL-Guest_2a:3f:0b:56:e9:03', 'CMKL-Guest_2a:3f:0b:56:e9:15',\n",
      "       ...\n",
      "       '_12:3f:1b:57:fa:37', '_da:55:a8:26:73:ee', '_da:55:a8:26:73:ef',\n",
      "       '_da:55:b8:26:73:ef', 'eduroam_34:1e:6b:05:fa:f2',\n",
      "       'eduroam_9c:50:ee:83:b2:92', 'eduroam_9c:50:ee:83:b4:52',\n",
      "       'eduroam_9c:50:ee:83:b4:72', 'eduroam_9c:50:ee:83:b8:32',\n",
      "       'guest_b6:fb:e4:a4:60:11'],\n",
      "      dtype='object', length=122)\n"
     ]
    }
   ],
   "source": [
    "# Identify all unique columns across the dataframes\n",
    "all_columns = set()\n",
    "for df in dataframes:\n",
    "    all_columns.update(df.columns)\n",
    "\n",
    "primary_cols = ['Date & Time', 'Latitude', 'Longitude', 'Floor']\n",
    "sorted_columns = primary_cols + [col for col in sorted(list(all_columns)) if col not in primary_cols]\n",
    "\n",
    "# Initialize an empty dataframe with all unique columns\n",
    "unified_dataframe = pd.DataFrame(columns=sorted_columns)\n",
    "\n",
    "# Merge each dataframe into the unified dataframe, filling missing entries with -100\n",
    "for df in dataframes:\n",
    "    # Ensure each dataframe has all the unified columns, filling missing ones with -100\n",
    "    df = df.reindex(columns=sorted_columns, fill_value=-100)\n",
    "    unified_dataframe = pd.concat([unified_dataframe, df], ignore_index=True)\n",
    "\n",
    "# Display the shape and first few rows of the unified dataframe to verify\n",
    "print(unified_dataframe.shape)\n",
    "print(unified_dataframe[['Date & Time', 'Latitude', 'Longitude', 'Floor']].head())\n",
    "print(\"------------------------------------------------\")\n",
    "print(unified_dataframe.columns)"
   ]
  },
  {
   "cell_type": "code",
   "execution_count": 7,
   "metadata": {},
   "outputs": [],
   "source": [
    "# Save the unified dataframe to a CSV file\n",
    "unified_dataframe.to_csv(r\"D:\\Prab\\IPS-Project\\synthetic_data_point\\Noon-RSSI\\Dataset_cloudSourcing\\Combine_All_source.csv\", index=False)\n"
   ]
  }
 ],
 "metadata": {
  "kernelspec": {
   "display_name": "Python 3",
   "language": "python",
   "name": "python3"
  },
  "language_info": {
   "codemirror_mode": {
    "name": "ipython",
    "version": 3
   },
   "file_extension": ".py",
   "mimetype": "text/x-python",
   "name": "python",
   "nbconvert_exporter": "python",
   "pygments_lexer": "ipython3",
   "version": "3.11.4"
  }
 },
 "nbformat": 4,
 "nbformat_minor": 2
}
